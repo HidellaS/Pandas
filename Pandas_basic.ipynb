{
 "cells": [
  {
   "cell_type": "markdown",
   "id": "a37781e6",
   "metadata": {},
   "source": [
    "# Import Libraries"
   ]
  },
  {
   "cell_type": "code",
   "execution_count": 2,
   "id": "ce25d8bf",
   "metadata": {},
   "outputs": [],
   "source": [
    "import pandas as pd\n",
    "import numpy as np"
   ]
  },
  {
   "cell_type": "markdown",
   "id": "24b89dd7",
   "metadata": {},
   "source": [
    "### Pandas Series object"
   ]
  },
  {
   "cell_type": "code",
   "execution_count": 4,
   "id": "01b0fa9c",
   "metadata": {},
   "outputs": [],
   "source": [
    "myIndex = ['USA', 'Canada', 'Mexico']\n",
    "myData = [1776, 1867, 1821]"
   ]
  },
  {
   "cell_type": "code",
   "execution_count": 5,
   "id": "410430f0",
   "metadata": {},
   "outputs": [
    {
     "data": {
      "text/plain": [
       "0    1776\n",
       "1    1867\n",
       "2    1821\n",
       "dtype: int64"
      ]
     },
     "execution_count": 5,
     "metadata": {},
     "output_type": "execute_result"
    }
   ],
   "source": [
    "mySer = pd.Series(data=myData)\n",
    "mySer"
   ]
  },
  {
   "cell_type": "code",
   "execution_count": 6,
   "id": "18455ecb",
   "metadata": {},
   "outputs": [
    {
     "data": {
      "text/plain": [
       "USA       1776\n",
       "Canada    1867\n",
       "Mexico    1821\n",
       "dtype: int64"
      ]
     },
     "execution_count": 6,
     "metadata": {},
     "output_type": "execute_result"
    }
   ],
   "source": [
    "mySer2 = pd.Series(data=myData, index=myIndex)\n",
    "mySer2"
   ]
  },
  {
   "cell_type": "code",
   "execution_count": 15,
   "id": "8d6410b2",
   "metadata": {},
   "outputs": [
    {
     "data": {
      "text/plain": [
       "{'Sana': 4, 'Ravi': 15, 'Savi': 10, 'Jhony': 8, 'kudu': 11}"
      ]
     },
     "execution_count": 15,
     "metadata": {},
     "output_type": "execute_result"
    }
   ],
   "source": [
    "ages = {'Sana':4, 'Ravi':15, 'Savi':10, 'Jhony':8, 'kudu':11}\n",
    "ages"
   ]
  },
  {
   "cell_type": "code",
   "execution_count": 17,
   "id": "1388f183",
   "metadata": {},
   "outputs": [
    {
     "data": {
      "text/plain": [
       "Sana      4\n",
       "Ravi     15\n",
       "Savi     10\n",
       "Jhony     8\n",
       "kudu     11\n",
       "dtype: int64"
      ]
     },
     "execution_count": 17,
     "metadata": {},
     "output_type": "execute_result"
    }
   ],
   "source": [
    "agesSer = pd.Series(data=ages)\n",
    "agesSer"
   ]
  },
  {
   "cell_type": "code",
   "execution_count": 26,
   "id": "a2c65fea",
   "metadata": {},
   "outputs": [],
   "source": [
    "## Sales data for countries\n",
    "\n",
    "q1 = {'Japan':80, 'China':450, 'India':200, 'USA':250}\n",
    "q2 = {'Brazil':100, 'China':500, 'India':210, 'USA':260}"
   ]
  },
  {
   "cell_type": "code",
   "execution_count": 23,
   "id": "1c2ba8cf",
   "metadata": {},
   "outputs": [],
   "source": [
    "sales_q1 = pd.Series(q1)\n",
    "sales_q2 = pd.Series(q2)"
   ]
  },
  {
   "cell_type": "code",
   "execution_count": 36,
   "id": "26e3b556",
   "metadata": {},
   "outputs": [
    {
     "data": {
      "text/plain": [
       "Japan     80\n",
       "China    450\n",
       "India    200\n",
       "USA      250\n",
       "dtype: int64"
      ]
     },
     "execution_count": 36,
     "metadata": {},
     "output_type": "execute_result"
    }
   ],
   "source": [
    "sales_q1"
   ]
  },
  {
   "cell_type": "code",
   "execution_count": 37,
   "id": "54fafd58",
   "metadata": {},
   "outputs": [
    {
     "data": {
      "text/plain": [
       "Brazil    100\n",
       "China     500\n",
       "India     210\n",
       "USA       260\n",
       "dtype: int64"
      ]
     },
     "execution_count": 37,
     "metadata": {},
     "output_type": "execute_result"
    }
   ],
   "source": [
    "sales_q2"
   ]
  },
  {
   "cell_type": "code",
   "execution_count": 38,
   "id": "bda4002e",
   "metadata": {},
   "outputs": [
    {
     "data": {
      "text/plain": [
       "Index(['Japan', 'China', 'India', 'USA'], dtype='object')"
      ]
     },
     "execution_count": 38,
     "metadata": {},
     "output_type": "execute_result"
    }
   ],
   "source": [
    "sales_q1.keys()"
   ]
  },
  {
   "cell_type": "code",
   "execution_count": 40,
   "id": "22849678",
   "metadata": {},
   "outputs": [
    {
     "data": {
      "text/plain": [
       "Brazil      NaN\n",
       "China     950.0\n",
       "India     410.0\n",
       "Japan       NaN\n",
       "USA       510.0\n",
       "dtype: float64"
      ]
     },
     "execution_count": 40,
     "metadata": {},
     "output_type": "execute_result"
    }
   ],
   "source": [
    "total_sales = sales_q1 + sales_q2\n",
    "total_sales"
   ]
  },
  {
   "cell_type": "code",
   "execution_count": 42,
   "id": "3f947d3b",
   "metadata": {},
   "outputs": [
    {
     "data": {
      "text/plain": [
       "Brazil    100.0\n",
       "China     950.0\n",
       "India     410.0\n",
       "Japan      80.0\n",
       "USA       510.0\n",
       "dtype: float64"
      ]
     },
     "execution_count": 42,
     "metadata": {},
     "output_type": "execute_result"
    }
   ],
   "source": [
    "sales_q1.add(sales_q2, fill_value=0)"
   ]
  },
  {
   "cell_type": "code",
   "execution_count": null,
   "id": "605a539c",
   "metadata": {},
   "outputs": [],
   "source": []
  }
 ],
 "metadata": {
  "kernelspec": {
   "display_name": "Python 3 (ipykernel)",
   "language": "python",
   "name": "python3"
  },
  "language_info": {
   "codemirror_mode": {
    "name": "ipython",
    "version": 3
   },
   "file_extension": ".py",
   "mimetype": "text/x-python",
   "name": "python",
   "nbconvert_exporter": "python",
   "pygments_lexer": "ipython3",
   "version": "3.11.5"
  }
 },
 "nbformat": 4,
 "nbformat_minor": 5
}
